{
 "cells": [
  {
   "attachments": {},
   "cell_type": "markdown",
   "metadata": {},
   "source": [
    "## Micrograd\n",
    "A tiny Autograd engine. Short form of automatic gradient which implements the backpropagation algorithm. Backpropagation is a method to efficiently calculate the gradient of a loss function with respect to the weights of a neural network. This gradient calculation allows for iterative weight tuning, minimizing the loss function and improving the network's accuracy."
   ]
  },
  {
   "cell_type": "code",
   "execution_count": null,
   "metadata": {},
   "outputs": [],
   "source": []
  }
 ],
 "metadata": {
  "language_info": {
   "name": "python"
  },
  "orig_nbformat": 4
 },
 "nbformat": 4,
 "nbformat_minor": 2
}
